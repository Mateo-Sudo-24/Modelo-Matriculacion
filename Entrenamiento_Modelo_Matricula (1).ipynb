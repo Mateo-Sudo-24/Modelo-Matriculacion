{
 "cells": [
  {
   "cell_type": "markdown",
   "id": "94d96854",
   "metadata": {},
   "source": [
    "# Entrenamiento y Empaquetado de un Modelo de Machine Learning para Predicción de Matrícula"
   ]
  },
  {
   "cell_type": "markdown",
   "id": "d7378398",
   "metadata": {},
   "source": [
    "## Paso 1: Cargar y explorar los datos"
   ]
  },
  {
   "cell_type": "code",
   "execution_count": 14,
   "id": "58398a04",
   "metadata": {},
   "outputs": [
    {
     "data": {
      "text/html": [
       "<div>\n",
       "<style scoped>\n",
       "    .dataframe tbody tr th:only-of-type {\n",
       "        vertical-align: middle;\n",
       "    }\n",
       "\n",
       "    .dataframe tbody tr th {\n",
       "        vertical-align: top;\n",
       "    }\n",
       "\n",
       "    .dataframe thead th {\n",
       "        text-align: right;\n",
       "    }\n",
       "</style>\n",
       "<table border=\"1\" class=\"dataframe\">\n",
       "  <thead>\n",
       "    <tr style=\"text-align: right;\">\n",
       "      <th></th>\n",
       "      <th>edad</th>\n",
       "      <th>genero</th>\n",
       "      <th>nivel_educativo</th>\n",
       "      <th>ingresos_mensuales</th>\n",
       "      <th>ocupacion</th>\n",
       "      <th>interes_tema</th>\n",
       "      <th>uso_tecnologia</th>\n",
       "      <th>horas_disponibles</th>\n",
       "      <th>promociones_recibidas</th>\n",
       "      <th>matricula</th>\n",
       "    </tr>\n",
       "  </thead>\n",
       "  <tbody>\n",
       "    <tr>\n",
       "      <th>0</th>\n",
       "      <td>56</td>\n",
       "      <td>M</td>\n",
       "      <td>Universitario</td>\n",
       "      <td>995.0</td>\n",
       "      <td>Desempleado</td>\n",
       "      <td>2</td>\n",
       "      <td>4</td>\n",
       "      <td>0</td>\n",
       "      <td>1</td>\n",
       "      <td>0</td>\n",
       "    </tr>\n",
       "    <tr>\n",
       "      <th>1</th>\n",
       "      <td>46</td>\n",
       "      <td>M</td>\n",
       "      <td>Universitario</td>\n",
       "      <td>2172.0</td>\n",
       "      <td>Independiente</td>\n",
       "      <td>1</td>\n",
       "      <td>5</td>\n",
       "      <td>17</td>\n",
       "      <td>0</td>\n",
       "      <td>0</td>\n",
       "    </tr>\n",
       "    <tr>\n",
       "      <th>2</th>\n",
       "      <td>32</td>\n",
       "      <td>F</td>\n",
       "      <td>Universitario</td>\n",
       "      <td>797.0</td>\n",
       "      <td>Independiente</td>\n",
       "      <td>4</td>\n",
       "      <td>2</td>\n",
       "      <td>19</td>\n",
       "      <td>1</td>\n",
       "      <td>0</td>\n",
       "    </tr>\n",
       "    <tr>\n",
       "      <th>3</th>\n",
       "      <td>60</td>\n",
       "      <td>F</td>\n",
       "      <td>Postgrado</td>\n",
       "      <td>2034.0</td>\n",
       "      <td>Independiente</td>\n",
       "      <td>5</td>\n",
       "      <td>5</td>\n",
       "      <td>5</td>\n",
       "      <td>1</td>\n",
       "      <td>1</td>\n",
       "    </tr>\n",
       "    <tr>\n",
       "      <th>4</th>\n",
       "      <td>25</td>\n",
       "      <td>M</td>\n",
       "      <td>Universitario</td>\n",
       "      <td>872.0</td>\n",
       "      <td>Empleado</td>\n",
       "      <td>2</td>\n",
       "      <td>2</td>\n",
       "      <td>19</td>\n",
       "      <td>1</td>\n",
       "      <td>0</td>\n",
       "    </tr>\n",
       "  </tbody>\n",
       "</table>\n",
       "</div>"
      ],
      "text/plain": [
       "   edad genero nivel_educativo  ingresos_mensuales      ocupacion  \\\n",
       "0    56      M   Universitario               995.0    Desempleado   \n",
       "1    46      M   Universitario              2172.0  Independiente   \n",
       "2    32      F   Universitario               797.0  Independiente   \n",
       "3    60      F       Postgrado              2034.0  Independiente   \n",
       "4    25      M   Universitario               872.0       Empleado   \n",
       "\n",
       "   interes_tema  uso_tecnologia  horas_disponibles  promociones_recibidas  \\\n",
       "0             2               4                  0                      1   \n",
       "1             1               5                 17                      0   \n",
       "2             4               2                 19                      1   \n",
       "3             5               5                  5                      1   \n",
       "4             2               2                 19                      1   \n",
       "\n",
       "   matricula  \n",
       "0          0  \n",
       "1          0  \n",
       "2          0  \n",
       "3          1  \n",
       "4          0  "
      ]
     },
     "execution_count": 14,
     "metadata": {},
     "output_type": "execute_result"
    }
   ],
   "source": [
    "import pandas as pd\n",
    "\n",
    "# Cargar dataset\n",
    "df = pd.read_csv(\"cursos_matricula.csv\")\n",
    "\n",
    "# Mostrar primeras filas\n",
    "df.head()"
   ]
  },
  {
   "cell_type": "markdown",
   "id": "b6ee4d99",
   "metadata": {},
   "source": [
    "## Paso 2: Codificar variables categóricas"
   ]
  },
  {
   "cell_type": "code",
   "execution_count": 15,
   "id": "f762fb38",
   "metadata": {},
   "outputs": [
    {
     "data": {
      "text/html": [
       "<div>\n",
       "<style scoped>\n",
       "    .dataframe tbody tr th:only-of-type {\n",
       "        vertical-align: middle;\n",
       "    }\n",
       "\n",
       "    .dataframe tbody tr th {\n",
       "        vertical-align: top;\n",
       "    }\n",
       "\n",
       "    .dataframe thead th {\n",
       "        text-align: right;\n",
       "    }\n",
       "</style>\n",
       "<table border=\"1\" class=\"dataframe\">\n",
       "  <thead>\n",
       "    <tr style=\"text-align: right;\">\n",
       "      <th></th>\n",
       "      <th>edad</th>\n",
       "      <th>genero</th>\n",
       "      <th>nivel_educativo</th>\n",
       "      <th>ingresos_mensuales</th>\n",
       "      <th>ocupacion</th>\n",
       "      <th>interes_tema</th>\n",
       "      <th>uso_tecnologia</th>\n",
       "      <th>horas_disponibles</th>\n",
       "      <th>promociones_recibidas</th>\n",
       "      <th>matricula</th>\n",
       "    </tr>\n",
       "  </thead>\n",
       "  <tbody>\n",
       "    <tr>\n",
       "      <th>0</th>\n",
       "      <td>56</td>\n",
       "      <td>1</td>\n",
       "      <td>4</td>\n",
       "      <td>995.0</td>\n",
       "      <td>0</td>\n",
       "      <td>2</td>\n",
       "      <td>4</td>\n",
       "      <td>0</td>\n",
       "      <td>1</td>\n",
       "      <td>0</td>\n",
       "    </tr>\n",
       "    <tr>\n",
       "      <th>1</th>\n",
       "      <td>46</td>\n",
       "      <td>1</td>\n",
       "      <td>4</td>\n",
       "      <td>2172.0</td>\n",
       "      <td>3</td>\n",
       "      <td>1</td>\n",
       "      <td>5</td>\n",
       "      <td>17</td>\n",
       "      <td>0</td>\n",
       "      <td>0</td>\n",
       "    </tr>\n",
       "    <tr>\n",
       "      <th>2</th>\n",
       "      <td>32</td>\n",
       "      <td>0</td>\n",
       "      <td>4</td>\n",
       "      <td>797.0</td>\n",
       "      <td>3</td>\n",
       "      <td>4</td>\n",
       "      <td>2</td>\n",
       "      <td>19</td>\n",
       "      <td>1</td>\n",
       "      <td>0</td>\n",
       "    </tr>\n",
       "    <tr>\n",
       "      <th>3</th>\n",
       "      <td>60</td>\n",
       "      <td>0</td>\n",
       "      <td>0</td>\n",
       "      <td>2034.0</td>\n",
       "      <td>3</td>\n",
       "      <td>5</td>\n",
       "      <td>5</td>\n",
       "      <td>5</td>\n",
       "      <td>1</td>\n",
       "      <td>1</td>\n",
       "    </tr>\n",
       "    <tr>\n",
       "      <th>4</th>\n",
       "      <td>25</td>\n",
       "      <td>1</td>\n",
       "      <td>4</td>\n",
       "      <td>872.0</td>\n",
       "      <td>1</td>\n",
       "      <td>2</td>\n",
       "      <td>2</td>\n",
       "      <td>19</td>\n",
       "      <td>1</td>\n",
       "      <td>0</td>\n",
       "    </tr>\n",
       "  </tbody>\n",
       "</table>\n",
       "</div>"
      ],
      "text/plain": [
       "   edad  genero  nivel_educativo  ingresos_mensuales  ocupacion  interes_tema  \\\n",
       "0    56       1                4               995.0          0             2   \n",
       "1    46       1                4              2172.0          3             1   \n",
       "2    32       0                4               797.0          3             4   \n",
       "3    60       0                0              2034.0          3             5   \n",
       "4    25       1                4               872.0          1             2   \n",
       "\n",
       "   uso_tecnologia  horas_disponibles  promociones_recibidas  matricula  \n",
       "0               4                  0                      1          0  \n",
       "1               5                 17                      0          0  \n",
       "2               2                 19                      1          0  \n",
       "3               5                  5                      1          1  \n",
       "4               2                 19                      1          0  "
      ]
     },
     "execution_count": 15,
     "metadata": {},
     "output_type": "execute_result"
    }
   ],
   "source": [
    "from sklearn.preprocessing import LabelEncoder\n",
    "\n",
    "# Copia del dataframe para entrenamiento\n",
    "df_modelo = df.copy()\n",
    "\n",
    "# Codificación\n",
    "encoders = {}\n",
    "for col in ['genero', 'nivel_educativo', 'ocupacion']:\n",
    "    le = LabelEncoder()\n",
    "    df_modelo[col] = le.fit_transform(df_modelo[col])\n",
    "    encoders[col] = le\n",
    "\n",
    "# Mostrar datos codificados\n",
    "df_modelo.head()"
   ]
  },
  {
   "cell_type": "markdown",
   "id": "8e35ac25",
   "metadata": {},
   "source": [
    "## Paso 3: Separar variables predictoras (X) y variable objetivo (y)"
   ]
  },
  {
   "cell_type": "code",
   "execution_count": 16,
   "id": "7fcd4382",
   "metadata": {},
   "outputs": [
    {
     "name": "stdout",
     "output_type": "stream",
     "text": [
      "Columnas predictoras (X): ['edad', 'genero', 'nivel_educativo', 'ingresos_mensuales', 'ocupacion', 'interes_tema', 'uso_tecnologia', 'horas_disponibles', 'promociones_recibidas']\n",
      "Variable objetivo (y): matricula\n"
     ]
    }
   ],
   "source": [
    "X = df_modelo.drop(columns=['matricula'])\n",
    "y = df_modelo['matricula']\n",
    "\n",
    "print(\"Columnas predictoras (X):\", list(X.columns))\n",
    "print(\"Variable objetivo (y): matricula\")"
   ]
  },
  {
   "cell_type": "markdown",
   "id": "ed80f05f",
   "metadata": {},
   "source": [
    "## Paso 4: Entrenar el modelo"
   ]
  },
  {
   "cell_type": "code",
   "execution_count": 17,
   "id": "23ee2e8b",
   "metadata": {},
   "outputs": [
    {
     "name": "stdout",
     "output_type": "stream",
     "text": [
      "RandomForestClassifier(random_state=42)\n",
      "Importancia de las variables: [0.0270444  0.00583298 0.06948657 0.03049507 0.00976301 0.30957637\n",
      " 0.19252829 0.16575917 0.18951415]\n"
     ]
    }
   ],
   "source": [
    "from sklearn.ensemble import RandomForestClassifier\n",
    "from sklearn.model_selection import train_test_split\n",
    "\n",
    "# Separar en entrenamiento y prueba\n",
    "X_train, X_test, y_train, y_test = train_test_split(X, y, test_size=0.2, random_state=42)\n",
    "\n",
    "# Entrenar el modelo\n",
    "modelo = RandomForestClassifier(random_state=42)\n",
    "modelo.fit(X_train, y_train)\n",
    "\n",
    "# Ver resumen del modelo\n",
    "print(modelo)\n",
    "print(\"Importancia de las variables:\", modelo.feature_importances_)"
   ]
  },
  {
   "cell_type": "markdown",
   "id": "8da3c75d",
   "metadata": {},
   "source": [
    "## Paso 5: Guardar el modelo entrenado y los codificadores"
   ]
  },
  {
   "cell_type": "code",
   "execution_count": 20,
   "id": "d7170c1b",
   "metadata": {},
   "outputs": [
    {
     "name": "stdout",
     "output_type": "stream",
     "text": [
      "✅ Modelo y encoders guardados exitosamente.\n"
     ]
    }
   ],
   "source": [
    "import joblib\n",
    "\n",
    "# Guardar modelo\n",
    "joblib.dump(modelo, \"modelo_entrenado.pkl\")\n",
    "\n",
    "# Guardar codificadores\n",
    "joblib.dump(encoders, \"encoders.pkl\")\n",
    "\n",
    "print(\"✅ Modelo y encoders guardados exitosamente.\")"
   ]
  },
  {
   "cell_type": "code",
   "execution_count": 21,
   "id": "d49f64e3",
   "metadata": {},
   "outputs": [
    {
     "name": "stdout",
     "output_type": "stream",
     "text": [
      "Claves disponibles en el archivo: ['genero', 'nivel_educativo', 'ocupacion']\n"
     ]
    }
   ],
   "source": [
    "import joblib\n",
    "\n",
    "encoders = joblib.load(\"encoders.pkl\")\n",
    "print(\"Claves disponibles en el archivo:\", list(encoders.keys()))\n"
   ]
  },
  {
   "cell_type": "markdown",
   "id": "782b33f9",
   "metadata": {},
   "source": [
    "## Paso 6: ¿Qué se hace luego?"
   ]
  },
  {
   "cell_type": "markdown",
   "id": "020ce415",
   "metadata": {},
   "source": [
    "Este modelo ya ha aprendido cómo predecir, pero…\n",
    "Solo vive en la memoria de Python!\n",
    "\n",
    "Con el modelo entrenado y guardado:\n",
    "- Puedes cargarlo en una app Flask para hacer predicciones en tiempo real.\n",
    "- No necesitas el archivo .csv para hacer predicciones, solo los `.pkl`.\n",
    "- Puedes compartir el modelo con otros sin necesidad de compartir tu código de entrenamiento.\n",
    "\n",
    "Para usarlo:\n",
    "\n",
    "```python\n",
    "import joblib\n",
    "modelo = joblib.load(\"modelo_entrenado.pkl\")\n",
    "encoders = joblib.load(\"encoders.pkl\")\n",
    "```\n"
   ]
  },
  {
   "cell_type": "markdown",
   "id": "af5641d7",
   "metadata": {},
   "source": [
    "## Paso 7: Evaluación del modelo con métricas"
   ]
  },
  {
   "cell_type": "code",
   "execution_count": 22,
   "id": "311c5c4c",
   "metadata": {},
   "outputs": [
    {
     "name": "stdout",
     "output_type": "stream",
     "text": [
      "Matriz de confusión:\n",
      "[[542   0]\n",
      " [  0  58]]\n",
      "\n",
      "Reporte de clasificación:\n",
      "              precision    recall  f1-score   support\n",
      "\n",
      "           0       1.00      1.00      1.00       542\n",
      "           1       1.00      1.00      1.00        58\n",
      "\n",
      "    accuracy                           1.00       600\n",
      "   macro avg       1.00      1.00      1.00       600\n",
      "weighted avg       1.00      1.00      1.00       600\n",
      "\n",
      "Accuracy: 1.0\n",
      "Precision: 1.0\n",
      "Recall: 1.0\n",
      "F1 Score: 1.0\n"
     ]
    }
   ],
   "source": [
    "from sklearn.metrics import accuracy_score, precision_score, recall_score, f1_score, confusion_matrix, classification_report\n",
    "\n",
    "# Predicciones\n",
    "y_pred = modelo.predict(X_test)\n",
    "\n",
    "# Métricas\n",
    "print(\"Matriz de confusión:\")\n",
    "print(confusion_matrix(y_test, y_pred))\n",
    "\n",
    "print(\"\\nReporte de clasificación:\")\n",
    "print(classification_report(y_test, y_pred))\n",
    "\n",
    "print(\"Accuracy:\", accuracy_score(y_test, y_pred))\n",
    "print(\"Precision:\", precision_score(y_test, y_pred))\n",
    "print(\"Recall:\", recall_score(y_test, y_pred))\n",
    "print(\"F1 Score:\", f1_score(y_test, y_pred))\n"
   ]
  },
  {
   "cell_type": "markdown",
   "id": "dd968415",
   "metadata": {},
   "source": [
    "## Paso 8: Comparar múltiples modelos de clasificación"
   ]
  },
  {
   "cell_type": "code",
   "execution_count": 23,
   "id": "f2343927",
   "metadata": {},
   "outputs": [
    {
     "name": "stdout",
     "output_type": "stream",
     "text": [
      "RandomForest: Accuracy=1.0000, F1 Score=1.0000\n",
      "LogisticRegression: Accuracy=0.9450, F1 Score=0.6796\n",
      "DecisionTree: Accuracy=1.0000, F1 Score=1.0000\n",
      "SVM: Accuracy=0.9033, F1 Score=0.0000\n"
     ]
    },
    {
     "name": "stderr",
     "output_type": "stream",
     "text": [
      "C:\\Users\\User\\AppData\\Roaming\\Python\\Python312\\site-packages\\sklearn\\linear_model\\_logistic.py:465: ConvergenceWarning: lbfgs failed to converge (status=1):\n",
      "STOP: TOTAL NO. OF ITERATIONS REACHED LIMIT.\n",
      "\n",
      "Increase the number of iterations (max_iter) or scale the data as shown in:\n",
      "    https://scikit-learn.org/stable/modules/preprocessing.html\n",
      "Please also refer to the documentation for alternative solver options:\n",
      "    https://scikit-learn.org/stable/modules/linear_model.html#logistic-regression\n",
      "  n_iter_i = _check_optimize_result(\n"
     ]
    }
   ],
   "source": [
    "from sklearn.linear_model import LogisticRegression\n",
    "from sklearn.tree import DecisionTreeClassifier\n",
    "from sklearn.svm import SVC\n",
    "\n",
    "# Lista de modelos\n",
    "modelos = {\n",
    "    'RandomForest': RandomForestClassifier(random_state=42),\n",
    "    'LogisticRegression': LogisticRegression(max_iter=1000),\n",
    "    'DecisionTree': DecisionTreeClassifier(),\n",
    "    'SVM': SVC()\n",
    "}\n",
    "\n",
    "# Evaluar cada modelo\n",
    "for nombre, modelo_clasificador in modelos.items():\n",
    "    modelo_clasificador.fit(X_train, y_train)\n",
    "    pred = modelo_clasificador.predict(X_test)\n",
    "    acc = accuracy_score(y_test, pred)\n",
    "    f1 = f1_score(y_test, pred)\n",
    "    print(f\"{nombre}: Accuracy={acc:.4f}, F1 Score={f1:.4f}\")\n"
   ]
  },
  {
   "cell_type": "markdown",
   "id": "c5409f29",
   "metadata": {},
   "source": [
    "## Paso 9: Explicación de métricas, épocas y desbalanceo de clases"
   ]
  },
  {
   "cell_type": "markdown",
   "id": "5a9a4c54",
   "metadata": {},
   "source": [
    "### 📊 ¿Qué métricas se usan para comparar modelos?\n",
    "\n",
    "| Métrica     | ¿Cuándo usarla? |\n",
    "|-------------|-----------------|\n",
    "| Accuracy    | Si las clases están balanceadas |\n",
    "| Precision   | Si es más importante evitar falsos positivos |\n",
    "| Recall      | Si es más importante evitar falsos negativos |\n",
    "| F1-score    | Si necesitas equilibrio entre precision y recall |\n",
    "| AUC-ROC     | Para comparar clasificación probabilística en todos los umbrales |\n",
    "\n",
    "Estas métricas se aplican **siempre sobre los datos de prueba (`X_test`, `y_test`)**, nunca sobre los datos de entrenamiento.\n",
    "\n",
    "```python\n",
    "from sklearn.metrics import classification_report\n",
    "\n",
    "print(classification_report(y_test, y_pred))\n",
    "```\n"
   ]
  },
  {
   "cell_type": "markdown",
   "id": "2a9fbe62",
   "metadata": {},
   "source": [
    "### 🔁 ¿Qué son las épocas de entrenamiento?\n",
    "\n",
    "Una **época** es una pasada completa del modelo sobre todos los datos de entrenamiento.\n",
    "\n",
    "- Se usa principalmente en **redes neuronales** y modelos que aprenden de manera progresiva (como `SGDClassifier`, `MLPClassifier`, etc.).\n",
    "- En modelos como RandomForest, LogisticRegression, o DecisionTree **no se usan épocas directamente**.\n",
    "\n",
    "```python\n",
    "# Ejemplo con redes neuronales\n",
    "from sklearn.neural_network import MLPClassifier\n",
    "modelo = MLPClassifier(max_iter=100)  # 100 épocas\n",
    "```\n"
   ]
  },
  {
   "cell_type": "markdown",
   "id": "572952c0",
   "metadata": {},
   "source": [
    "### ⚠️ ¿Qué es el desbalanceo de clases?\n",
    "\n",
    "Ocurre cuando una clase aparece mucho más que otra. Por ejemplo:\n",
    "\n",
    "```python\n",
    "df['matricula'].value_counts(normalize=True)\n",
    "```\n",
    "\n",
    "Si ves algo como:\n",
    "\n",
    "```\n",
    "0    0.90\n",
    "1    0.10\n",
    "```\n",
    "\n",
    "Eso significa que el modelo puede predecir siempre \"0\" y tener 90% de accuracy, sin aprender nada útil.\n",
    "\n",
    "### ¿Cómo manejarlo?\n",
    "- Usa métricas como **Recall** o **F1-Score**.\n",
    "- Aplica técnicas como:\n",
    "  - `class_weight='balanced'` en algunos modelos\n",
    "  - `SMOTE` para sobremuestrear la clase minoritaria\n",
    "  - Submuestreo de la clase mayoritaria\n",
    "\n",
    "```python\n",
    "from sklearn.linear_model import LogisticRegression\n",
    "model = LogisticRegression(class_weight='balanced')\n",
    "```\n"
   ]
  },
  {
   "cell_type": "code",
   "execution_count": 25,
   "id": "19ef2b83",
   "metadata": {},
   "outputs": [
    {
     "data": {
      "text/plain": [
       "matricula\n",
       "0    0.902333\n",
       "1    0.097667\n",
       "Name: proportion, dtype: float64"
      ]
     },
     "execution_count": 25,
     "metadata": {},
     "output_type": "execute_result"
    }
   ],
   "source": [
    "df['matricula'].value_counts(normalize=True)"
   ]
  },
  {
   "cell_type": "code",
   "execution_count": 24,
   "id": "dee4034f",
   "metadata": {},
   "outputs": [
    {
     "name": "stdout",
     "output_type": "stream",
     "text": [
      "✅ Modelo y encoders cargados con éxito.\n"
     ]
    }
   ],
   "source": [
    "import joblib\n",
    "\n",
    "# Intentamos cargar el modelo y los encoders con joblib\n",
    "try:\n",
    "    modelo = joblib.load('modelo_entrenado.pkl')\n",
    "    encoders = joblib.load('encoders.pkl')\n",
    "    print(\"✅ Modelo y encoders cargados con éxito.\")\n",
    "except Exception as e:\n",
    "    print(\"❌ Error al cargar los archivos:\")\n",
    "    print(e)"
   ]
  },
  {
   "cell_type": "code",
   "execution_count": null,
   "id": "df3471ea",
   "metadata": {},
   "outputs": [],
   "source": [
    "import streamlit as st\n",
    "import numpy as np\n",
    "\n",
    "def predecir_matricula(edad, genero, nivel_educativo, ingresos_mensuales,\n",
    "                       ocupacion, interes_tema, uso_tecnologia, horas_disponibles,\n",
    "                       promociones_recibidas):\n",
    "    try:\n",
    "        # Codificar variables categóricas con LabelEncoder\n",
    "        genero_encoded = encoders['genero'].transform([genero])[0]\n",
    "        nivel_encoded = encoders['nivel_educativo'].transform([nivel_educativo])[0]\n",
    "        ocupacion_encoded = encoders['ocupacion'].transform([ocupacion])[0]\n",
    "\n",
    "        # Construir vector en el orden correcto\n",
    "        X = [[\n",
    "            edad,\n",
    "            genero_encoded,\n",
    "            nivel_encoded,\n",
    "            ingresos_mensuales,\n",
    "            ocupacion_encoded,\n",
    "            interes_tema,\n",
    "            uso_tecnologia,\n",
    "            horas_disponibles,\n",
    "            promociones_recibidas\n",
    "        ]]\n",
    "\n",
    "        # Predicción\n",
    "        pred = modelo.predict(X)[0]\n",
    "        return f\"✅ Predicción: {pred}\"\n",
    "\n",
    "    except Exception as e:\n",
    "        return f\"❌ Error en la predicción: {e}\"\n",
    "\n",
    "\n",
    "# Configuración de la página\n",
    "st.set_page_config(\n",
    "    page_title=\"Predicción de Matrícula\",\n",
    "    page_icon=\"🎓\",\n",
    "    layout=\"wide\"\n",
    ")\n",
    "\n",
    "# Título y descripción\n",
    "st.title(\"🎓 Predicción de Matrícula\")\n",
    "st.markdown(\"Ingresa los datos del estudiante para predecir si se matriculará (0 = No, 1 = Sí).\")\n",
    "\n",
    "# Obtener listas de clases desde los LabelEncoders\n",
    "generos = encoders['genero'].classes_.tolist()\n",
    "niveles_educativos = encoders['nivel_educativo'].classes_.tolist()\n",
    "ocupaciones = encoders['ocupacion'].classes_.tolist()\n",
    "\n",
    "# Crear formulario con columnas para mejor organización\n",
    "with st.form(\"prediction_form\"):\n",
    "    col1, col2 = st.columns(2)\n",
    "    \n",
    "    with col1:\n",
    "        st.subheader(\"Datos Personales\")\n",
    "        edad = st.number_input(\n",
    "            \"Edad\",\n",
    "            min_value=0,\n",
    "            max_value=100,\n",
    "            value=25,\n",
    "            step=1\n",
    "        )\n",
    "        \n",
    "        genero = st.selectbox(\n",
    "            \"Género\",\n",
    "            options=generos,\n",
    "            index=0\n",
    "        )\n",
    "        \n",
    "        nivel_educativo = st.selectbox(\n",
    "            \"Nivel educativo\",\n",
    "            options=niveles_educativos,\n",
    "            index=0\n",
    "        )\n",
    "        \n",
    "        ingresos_mensuales = st.number_input(\n",
    "            \"Ingresos mensuales\",\n",
    "            min_value=0.0,\n",
    "            value=1000.0,\n",
    "            step=100.0,\n",
    "            format=\"%.2f\"\n",
    "        )\n",
    "        \n",
    "        ocupacion = st.selectbox(\n",
    "            \"Ocupación\",\n",
    "            options=ocupaciones,\n",
    "            index=0\n",
    "        )\n",
    "    \n",
    "    with col2:\n",
    "        st.subheader(\"Preferencias y Disponibilidad\")\n",
    "        interes_tema = st.slider(\n",
    "            \"Interés en el tema\",\n",
    "            min_value=0,\n",
    "            max_value=5,\n",
    "            value=3,\n",
    "            step=1\n",
    "        )\n",
    "        \n",
    "        uso_tecnologia = st.slider(\n",
    "            \"Uso de tecnología\",\n",
    "            min_value=0,\n",
    "            max_value=5,\n",
    "            value=3,\n",
    "            step=1\n",
    "        )\n",
    "        \n",
    "        horas_disponibles = st.slider(\n",
    "            \"Horas disponibles\",\n",
    "            min_value=0,\n",
    "            max_value=24,\n",
    "            value=8,\n",
    "            step=1\n",
    "        )\n",
    "        \n",
    "        promociones_recibidas = st.slider(\n",
    "            \"Promociones recibidas\",\n",
    "            min_value=0,\n",
    "            max_value=20,\n",
    "            value=5,\n",
    "            step=1\n",
    "        )\n",
    "    \n",
    "    # Botón de predicción\n",
    "    submit_button = st.form_submit_button(\n",
    "        \"🔮 Realizar Predicción\",\n",
    "        use_container_width=True\n",
    "    )\n",
    "\n",
    "# Procesar predicción cuando se envía el formulario\n",
    "if submit_button:\n",
    "    with st.spinner('Realizando predicción...'):\n",
    "        resultado = predecir_matricula(\n",
    "            edad, genero, nivel_educativo, ingresos_mensuales,\n",
    "            ocupacion, interes_tema, uso_tecnologia, horas_disponibles,\n",
    "            promociones_recibidas\n",
    "        )\n",
    "    \n",
    "    # Mostrar resultado\n",
    "    if \"✅\" in resultado:\n",
    "        st.success(resultado)\n",
    "        # Interpretar el resultado\n",
    "        pred_value = resultado.split(\": \")[1]\n",
    "        if pred_value == \"1\":\n",
    "            st.balloons()\n",
    "            st.info(\"🎉 El estudiante tiene alta probabilidad de matricularse\")\n",
    "        else:\n",
    "            st.info(\"📊 El estudiante tiene baja probabilidad de matricularse\")\n",
    "    else:\n",
    "        st.error(resultado)\n",
    "\n",
    "# Información adicional\n",
    "with st.expander(\"ℹ️ Información sobre los parámetros\"):\n",
    "    st.markdown(\"\"\"\n",
    "    **Descripción de los parámetros:**\n",
    "    \n",
    "    - **Edad**: Edad del estudiante en años\n",
    "    - **Género**: Género del estudiante\n",
    "    - **Nivel educativo**: Nivel de educación completado\n",
    "    - **Ingresos mensuales**: Ingresos económicos mensuales\n",
    "    - **Ocupación**: Ocupación actual del estudiante\n",
    "    - **Interés en el tema**: Nivel de interés (0-5, donde 5 es muy alto)\n",
    "    - **Uso de tecnología**: Familiaridad con tecnología (0-5)\n",
    "    - **Horas disponibles**: Horas disponibles para estudiar por día\n",
    "    - **Promociones recibidas**: Número de promociones/ofertas recibidas\n",
    "    \"\"\")\n",
    "\n",
    "# Pie de página\n",
    "st.markdown(\"---\")\n",
    "st.markdown(\"*Desarrollado con Streamlit* 🚀\")"
   ]
  }
 ],
 "metadata": {
  "kernelspec": {
   "display_name": "Python 3",
   "language": "python",
   "name": "python3"
  },
  "language_info": {
   "codemirror_mode": {
    "name": "ipython",
    "version": 3
   },
   "file_extension": ".py",
   "mimetype": "text/x-python",
   "name": "python",
   "nbconvert_exporter": "python",
   "pygments_lexer": "ipython3",
   "version": "3.12.6"
  }
 },
 "nbformat": 4,
 "nbformat_minor": 5
}
